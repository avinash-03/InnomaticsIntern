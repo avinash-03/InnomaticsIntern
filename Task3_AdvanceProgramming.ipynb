{
 "cells": [
  {
   "cell_type": "markdown",
   "metadata": {},
   "source": [
    "# Task 3 Advance programming python"
   ]
  },
  {
   "cell_type": "code",
   "execution_count": 12,
   "metadata": {
    "ExecuteTime": {
     "end_time": "2021-10-20T18:05:50.328267Z",
     "start_time": "2021-10-20T18:05:50.316266Z"
    }
   },
   "outputs": [],
   "source": [
    "class Solution:\n",
    "    # find the maxproduct of two numbers\n",
    "    def maxProduct(nums: int) -> int:\n",
    "        sort=sorted(nums,reverse=True)\n",
    "        value=(sort[0]-1)*(sort[1]-1)\n",
    "        return value\n",
    "    \n",
    "    # count the number of teams\n",
    "    def numTeams(rating:int) -> int:\n",
    "        n = len(rating)\n",
    "        dp = [[0, 0] for i in range(n)]\n",
    "        res = 0\n",
    "        for k in range(1, n):\n",
    "            for j in range(0, k):\n",
    "                # . j. k\n",
    "                if rating[j]<rating[k]:\n",
    "                    res += dp[j][0]\n",
    "                    dp[k][0] += 1\n",
    "                if rating[j]>rating[k]:\n",
    "                    res += dp[j][1]\n",
    "                    dp[k][1] += 1\n",
    "        return res\n",
    "\n",
    "    #count the \n",
    "    def busyStudent(startTime, endTime, queryTime) -> int:\n",
    "        count=0\n",
    "        for i in range(len(startTime)):\n",
    "            if startTime[i]<=queryTime<=endTime[i]:\n",
    "                count+=1\n",
    "        return count\n",
    "    \n",
    "    # count the number of step to zero\n",
    "    def numberOfSteps( num: int) -> int:\n",
    "        step=0\n",
    "        result=num\n",
    "        while result>0:               \n",
    "            if result%2==0:\n",
    "                result/=2\n",
    "                step+=1\n",
    "            else:\n",
    "                result-=1\n",
    "                step+=1\n",
    "        return step\n",
    "    #function for countbits\n",
    "    def countBits(n: int):\n",
    "        result=[str(bin(i)).count('1') for i in range(n+1)]\n",
    "        return result\n",
    "    \n",
    "    "
   ]
  },
  {
   "cell_type": "markdown",
   "metadata": {},
   "source": [
    "# Q1 Maximum Product of Two Elements in an Array\n",
    "Input: nums = [3,4,5,2]<br>\n",
    "Output: 12 "
   ]
  },
  {
   "cell_type": "code",
   "execution_count": 7,
   "metadata": {
    "ExecuteTime": {
     "end_time": "2021-10-20T18:02:11.387799Z",
     "start_time": "2021-10-20T18:02:11.376786Z"
    }
   },
   "outputs": [
    {
     "data": {
      "text/plain": [
       "12"
      ]
     },
     "execution_count": 7,
     "metadata": {},
     "output_type": "execute_result"
    }
   ],
   "source": [
    "nums=[3,4,5,2]\n",
    "Solution.maxProduct(nums)"
   ]
  },
  {
   "cell_type": "markdown",
   "metadata": {
    "ExecuteTime": {
     "end_time": "2021-10-20T18:03:33.725244Z",
     "start_time": "2021-10-20T18:03:33.719248Z"
    }
   },
   "source": [
    "# Q2 Count Number of Teams\n",
    "Input: rating = [2,5,3,4,1]<br>\n",
    "Output: 3\n"
   ]
  },
  {
   "cell_type": "code",
   "execution_count": 9,
   "metadata": {
    "ExecuteTime": {
     "end_time": "2021-10-20T18:02:20.258916Z",
     "start_time": "2021-10-20T18:02:20.246917Z"
    }
   },
   "outputs": [
    {
     "data": {
      "text/plain": [
       "3"
      ]
     },
     "execution_count": 9,
     "metadata": {},
     "output_type": "execute_result"
    }
   ],
   "source": [
    "rating = [2,5,3,4,1]\n",
    "#Output: 3\n",
    "Solution.numTeams(rating)\n",
    "\n",
    "#(2,3,4), (5,4,1), (5,3,1). "
   ]
  },
  {
   "cell_type": "markdown",
   "metadata": {
    "ExecuteTime": {
     "end_time": "2021-10-19T14:20:28.232219Z",
     "start_time": "2021-10-19T14:20:28.215219Z"
    }
   },
   "source": [
    "# Q3 Number of Students Doing Homework at a Given Time\n",
    "\n",
    "Input: startTime = [4], endTime = [4], queryTime = 4<br>\n",
    "Output: 1\n",
    "    "
   ]
  },
  {
   "cell_type": "code",
   "execution_count": 43,
   "metadata": {
    "ExecuteTime": {
     "end_time": "2021-10-19T14:31:03.132962Z",
     "start_time": "2021-10-19T14:31:03.123949Z"
    }
   },
   "outputs": [
    {
     "data": {
      "text/plain": [
       "1"
      ]
     },
     "execution_count": 43,
     "metadata": {},
     "output_type": "execute_result"
    }
   ],
   "source": [
    "startTime,endTime,queryTime=[4],[4],4\n",
    "Solution.busyStudent(startTime,endTime,queryTime)"
   ]
  },
  {
   "cell_type": "markdown",
   "metadata": {
    "ExecuteTime": {
     "end_time": "2021-10-19T15:16:32.199869Z",
     "start_time": "2021-10-19T15:16:32.187869Z"
    }
   },
   "source": [
    "# Q4 Number of Steps to Reduce a Number to Zero\n",
    "Input: num = 14<br>\n",
    "Output: 6<br>\n",
    "Explanation:<br> \n",
    "Step 1) 14 is even; divide by 2 and obtain 7. \n",
    "Step 2) 7 is odd; subtract 1 and obtain 6.\n",
    "Step 3) 6 is even; divide by 2 and obtain 3. \n",
    "Step 4) 3 is odd; subtract 1 and obtain 2. \n",
    "Step 5) 2 is even; divide by 2 and obtain 1. \n",
    "Step 6) 1 is odd; subtract 1 and obtain 0.\n"
   ]
  },
  {
   "cell_type": "code",
   "execution_count": 13,
   "metadata": {
    "ExecuteTime": {
     "end_time": "2021-10-20T18:05:57.309190Z",
     "start_time": "2021-10-20T18:05:57.303190Z"
    }
   },
   "outputs": [
    {
     "data": {
      "text/plain": [
       "6"
      ]
     },
     "execution_count": 13,
     "metadata": {},
     "output_type": "execute_result"
    }
   ],
   "source": [
    "num=14\n",
    "Solution.numberOfSteps(num)"
   ]
  },
  {
   "cell_type": "markdown",
   "metadata": {
    "ExecuteTime": {
     "end_time": "2021-10-19T17:22:45.493743Z",
     "start_time": "2021-10-19T17:22:45.475739Z"
    }
   },
   "source": [
    "# Q5  Counting Bits\n",
    " Input: n = 2<br>\n",
    "Output: [0,1,1]<br>\n",
    "Explanation:\n",
    "0 --> 0\n",
    "1 --> 1\n",
    "2 --> 10"
   ]
  },
  {
   "cell_type": "code",
   "execution_count": 14,
   "metadata": {
    "ExecuteTime": {
     "end_time": "2021-10-20T18:06:11.362391Z",
     "start_time": "2021-10-20T18:06:11.355389Z"
    }
   },
   "outputs": [
    {
     "data": {
      "text/plain": [
       "[0, 1, 1]"
      ]
     },
     "execution_count": 14,
     "metadata": {},
     "output_type": "execute_result"
    }
   ],
   "source": [
    "n=2\n",
    "Solution.countBits(n)"
   ]
  },
  {
   "cell_type": "code",
   "execution_count": 65,
   "metadata": {
    "ExecuteTime": {
     "end_time": "2021-10-19T17:28:46.385165Z",
     "start_time": "2021-10-19T17:28:46.366147Z"
    }
   },
   "outputs": [],
   "source": []
  }
 ],
 "metadata": {
  "kernelspec": {
   "display_name": "Python 3",
   "language": "python",
   "name": "python3"
  },
  "language_info": {
   "codemirror_mode": {
    "name": "ipython",
    "version": 3
   },
   "file_extension": ".py",
   "mimetype": "text/x-python",
   "name": "python",
   "nbconvert_exporter": "python",
   "pygments_lexer": "ipython3",
   "version": "3.8.5"
  }
 },
 "nbformat": 4,
 "nbformat_minor": 4
}
