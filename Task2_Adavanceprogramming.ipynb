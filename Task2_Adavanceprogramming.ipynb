{
 "cells": [
  {
   "cell_type": "markdown",
   "metadata": {},
   "source": [
    "# Task2 Advance Programmming "
   ]
  },
  {
   "cell_type": "code",
   "execution_count": 80,
   "metadata": {},
   "outputs": [],
   "source": [
    "class Solution:\n",
    "     #fuction for defaging the address\n",
    "    def defangIPaddr(address) -> 'str':\n",
    "        address=str(address).replace('.','[.]')\n",
    "        return address\n",
    "\n",
    "    # function for finding even length of number\n",
    "    def findNumbers(nums):\n",
    "        count=0\n",
    "        for i in nums:\n",
    "            if len(str(i))%2==0:\n",
    "                count+=1\n",
    "        return count\n",
    "    \n",
    "    #find the same pair of number\n",
    "    def numIdenticalPairs(nums):\n",
    "        count=0\n",
    "        for i in range(len(nums)):\n",
    "            for j in range(len(nums)):\n",
    "                if nums[i]==nums[j] and i<j:\n",
    "                    count+=1\n",
    "        return count\n",
    "\n",
    "    # find the how many number less than current numberf\n",
    "    def smallerNumbersThanCurrent(nums):\n",
    "        result=[]\n",
    "        for i in range(len(nums)):\n",
    "            count=0\n",
    "            for j in range(len(nums)):\n",
    "                if nums[i]> nums[j] and i!=j:\n",
    "                    count+=1\n",
    "            result.append(count)\n",
    "        return result\n",
    "\n",
    "    # find the difference between sum and product of digit\n",
    "    def subtractProductAndSum(n):\n",
    "        import math\n",
    "        prod=math.prod(int(x) for x in str(n))\n",
    "        add= sum(int(x) for x in str(n))\n",
    "        return prod-add \n",
    "\n",
    "    #find the xor operation\n",
    "    def xorOperation(n: int, start: int) -> int:\n",
    "        xor=start\n",
    "        for i in range(1,n):\n",
    "            xor^=start+i*2\n",
    "        return xor       "
   ]
  },
  {
   "cell_type": "markdown",
   "metadata": {},
   "source": [
    "# Q1 Defanging an IP Address1 "
   ]
  },
  {
   "cell_type": "code",
   "execution_count": 81,
   "metadata": {},
   "outputs": [
    {
     "data": {
      "text/plain": [
       "'123[.]23[.]45[.]56'"
      ]
     },
     "execution_count": 81,
     "metadata": {},
     "output_type": "execute_result"
    }
   ],
   "source": [
    "string='123.23.45.56'\n",
    "Solution.defangIPaddr(string)"
   ]
  },
  {
   "cell_type": "markdown",
   "metadata": {},
   "source": [
    "# Q2 Find Numbers with Even Number of Digits\n",
    "Input: nums = [12,345,2,6,7896]<br>\n",
    "Output: 2<br>"
   ]
  },
  {
   "cell_type": "code",
   "execution_count": 82,
   "metadata": {},
   "outputs": [
    {
     "data": {
      "text/plain": [
       "2"
      ]
     },
     "execution_count": 82,
     "metadata": {},
     "output_type": "execute_result"
    }
   ],
   "source": [
    "nums=[12,345,2,6,7896]\n",
    "Solution.findNumbers(nums)"
   ]
  },
  {
   "cell_type": "markdown",
   "metadata": {},
   "source": [
    "# Q3 Number of Good Pairs:\n",
    "Input: nums = [1,2,3,1,1,3]<br>\n",
    "Output: 4<br>\n",
    "Explanation: There are 4 good pairs (0,3), (0,4), (3,4), (2,5) 0-indexed.<br>\n"
   ]
  },
  {
   "cell_type": "code",
   "execution_count": 83,
   "metadata": {},
   "outputs": [
    {
     "data": {
      "text/plain": [
       "4"
      ]
     },
     "execution_count": 83,
     "metadata": {},
     "output_type": "execute_result"
    }
   ],
   "source": [
    "nums = [1,2,3,1,1,3]\n",
    "Solution.numIdenticalPairs(nums)"
   ]
  },
  {
   "cell_type": "markdown",
   "metadata": {},
   "source": [
    "# Q4. How Many Numbers Are Smaller Than the Current Number\n",
    "Input: nums = [8,1,2,2,3]<br>\n",
    "Output: [4,0,1,1,3]"
   ]
  },
  {
   "cell_type": "code",
   "execution_count": 84,
   "metadata": {},
   "outputs": [
    {
     "data": {
      "text/plain": [
       "[4, 0, 1, 1, 3]"
      ]
     },
     "execution_count": 84,
     "metadata": {},
     "output_type": "execute_result"
    }
   ],
   "source": [
    "nums=[8,1,2,2,3]\n",
    "Solution.smallerNumbersThanCurrent(nums)"
   ]
  },
  {
   "cell_type": "markdown",
   "metadata": {},
   "source": [
    "# Q5 Subtract the Product and Sum of Digits of an Integer\n",
    "input : n=2356<br>\n",
    "Output : 164"
   ]
  },
  {
   "cell_type": "code",
   "execution_count": 85,
   "metadata": {},
   "outputs": [
    {
     "data": {
      "text/plain": [
       "164"
      ]
     },
     "execution_count": 85,
     "metadata": {},
     "output_type": "execute_result"
    }
   ],
   "source": [
    "#Subtract the Product and Sum of Digits of an Integer\n",
    "n=2356\n",
    "Solution.subtractProductAndSum(n)"
   ]
  },
  {
   "cell_type": "markdown",
   "metadata": {},
   "source": [
    "# Q6. XOR Operation in an Array\n",
    "Input: n = 5, start = 0<br>\n",
    "Output: 8"
   ]
  },
  {
   "cell_type": "code",
   "execution_count": 86,
   "metadata": {},
   "outputs": [
    {
     "data": {
      "text/plain": [
       "8"
      ]
     },
     "execution_count": 86,
     "metadata": {},
     "output_type": "execute_result"
    }
   ],
   "source": [
    "n=4\n",
    "start=3\n",
    "Solution.xorOperation(n,start)"
   ]
  },
  {
   "cell_type": "code",
   "execution_count": null,
   "metadata": {},
   "outputs": [],
   "source": []
  }
 ],
 "metadata": {
  "interpreter": {
   "hash": "b5cdd23c5aa57cd63174c86078fbc0df0cfd70259344bbe92a3726bf69df8658"
  },
  "kernelspec": {
   "display_name": "Python 3",
   "language": "python",
   "name": "python3"
  },
  "language_info": {
   "codemirror_mode": {
    "name": "ipython",
    "version": 3
   },
   "file_extension": ".py",
   "mimetype": "text/x-python",
   "name": "python",
   "nbconvert_exporter": "python",
   "pygments_lexer": "ipython3",
   "version": "3.8.5"
  }
 },
 "nbformat": 4,
 "nbformat_minor": 2
}
