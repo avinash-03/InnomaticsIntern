{
 "cells": [
  {
   "cell_type": "markdown",
   "metadata": {},
   "source": [
    "# Task 4 Advance Programming python"
   ]
  },
  {
   "cell_type": "code",
   "execution_count": 99,
   "metadata": {
    "ExecuteTime": {
     "end_time": "2021-10-20T17:52:43.959201Z",
     "start_time": "2021-10-20T17:52:43.935201Z"
    }
   },
   "outputs": [],
   "source": [
    "class Solution:\n",
    "    def singleNumber(nums: [int]) -> int:\n",
    "        from collections import Counter\n",
    "        d = Counter(nums)\n",
    "        keys = list(d.keys())\n",
    "        vals = list(d.values())\n",
    "        return keys[vals.index(1)]\n",
    "    \n",
    "    # function for sorting number according 1 in binary number\n",
    "    def sortByBits(arr:[int]) -> [int]:\n",
    "        arr=[(bin(x).count('1'),x) for x in arr]\n",
    "        arr.sort()\n",
    "        return [x[1] for x in arr]\n",
    "    \n",
    "    def singleNumberlist(nums: [int]) -> int:\n",
    "        from collections import Counter\n",
    "        d = Counter(nums)\n",
    "        return [i for i,j in d.items() if j==1]\n",
    "    \n",
    "    # function for \n",
    "    def subsets(nums) -> 'List[List[int]]':\n",
    "        from itertools import combinations\n",
    "        new_list=[[]]\n",
    "        for i in range(1,len(nums)+1):\n",
    "            c=combinations(nums,i)\n",
    "            for i in c:\n",
    "                new_list.append(list(i))\n",
    "        return new_list\n",
    "        \n"
   ]
  },
  {
   "cell_type": "markdown",
   "metadata": {
    "ExecuteTime": {
     "end_time": "2021-10-20T16:24:00.002362Z",
     "start_time": "2021-10-20T16:23:59.982362Z"
    }
   },
   "source": [
    "# Q1 Single Number\n",
    "Input: nums = [2,2,1]<br>\n",
    "Output: 1"
   ]
  },
  {
   "cell_type": "code",
   "execution_count": 68,
   "metadata": {
    "ExecuteTime": {
     "end_time": "2021-10-20T17:04:24.009099Z",
     "start_time": "2021-10-20T17:04:23.991099Z"
    }
   },
   "outputs": [
    {
     "data": {
      "text/plain": [
       "1"
      ]
     },
     "execution_count": 68,
     "metadata": {},
     "output_type": "execute_result"
    }
   ],
   "source": [
    "nums=[2,2,1]\n",
    "Solution.singleNumber(nums)"
   ]
  },
  {
   "cell_type": "markdown",
   "metadata": {
    "ExecuteTime": {
     "end_time": "2021-10-20T16:51:42.072470Z",
     "start_time": "2021-10-20T16:51:42.066474Z"
    }
   },
   "source": [
    "# Q2 Sort Integers by The Number of 1 Bits\n",
    "Input: arr = [2,3,5,7,11,13,17,19]<br>\n",
    "Output: [2,3,5,17,7,11,13,19]"
   ]
  },
  {
   "cell_type": "code",
   "execution_count": 69,
   "metadata": {
    "ExecuteTime": {
     "end_time": "2021-10-20T17:04:24.820792Z",
     "start_time": "2021-10-20T17:04:24.810792Z"
    }
   },
   "outputs": [
    {
     "data": {
      "text/plain": [
       "[2, 3, 5, 17, 7, 11, 13, 19]"
      ]
     },
     "execution_count": 69,
     "metadata": {},
     "output_type": "execute_result"
    }
   ],
   "source": [
    "arr = [2,3,5,7,11,13,17,19]\n",
    "#Output: [2,3,5,17,7,11,13,19]\n",
    "Solution.sortByBits(arr)"
   ]
  },
  {
   "cell_type": "markdown",
   "metadata": {
    "ExecuteTime": {
     "end_time": "2021-10-20T17:09:21.146737Z",
     "start_time": "2021-10-20T17:09:21.135530Z"
    }
   },
   "source": [
    "# Q3  Single Number III\n",
    "Input: nums = [1,2,1,3,2,5]<br>\n",
    "Output: [3,5]<br>\n",
    "Explanation:  [5, 3] is also a valid answer."
   ]
  },
  {
   "cell_type": "code",
   "execution_count": 71,
   "metadata": {
    "ExecuteTime": {
     "end_time": "2021-10-20T17:04:26.220834Z",
     "start_time": "2021-10-20T17:04:26.208831Z"
    }
   },
   "outputs": [
    {
     "data": {
      "text/plain": [
       "[3, 5]"
      ]
     },
     "execution_count": 71,
     "metadata": {},
     "output_type": "execute_result"
    }
   ],
   "source": [
    "nums = [1,2,1,3,2,5]\n",
    "Solution.singleNumberlist(nums)"
   ]
  },
  {
   "cell_type": "markdown",
   "metadata": {
    "ExecuteTime": {
     "end_time": "2021-10-20T17:35:09.158652Z",
     "start_time": "2021-10-20T17:35:09.144653Z"
    }
   },
   "source": [
    "# Q4 Subsets\n",
    "Input: nums = [1,2,3]<br>\n",
    "Output: [[],[1],[2],[1,2],[3],[1,3],[2,3],[1,2,3]]"
   ]
  },
  {
   "cell_type": "code",
   "execution_count": 100,
   "metadata": {
    "ExecuteTime": {
     "end_time": "2021-10-20T17:53:10.443930Z",
     "start_time": "2021-10-20T17:53:10.430944Z"
    }
   },
   "outputs": [
    {
     "data": {
      "text/plain": [
       "[[], [1], [2], [3], [1, 2], [1, 3], [2, 3], [1, 2, 3]]"
      ]
     },
     "execution_count": 100,
     "metadata": {},
     "output_type": "execute_result"
    }
   ],
   "source": [
    "nums=[1,2,3]\n",
    "Solution.subsets(nums)"
   ]
  },
  {
   "cell_type": "code",
   "execution_count": null,
   "metadata": {
    "ExecuteTime": {
     "end_time": "2021-10-20T16:41:10.825304Z",
     "start_time": "2021-10-20T16:41:10.816304Z"
    }
   },
   "outputs": [],
   "source": []
  }
 ],
 "metadata": {
  "kernelspec": {
   "display_name": "Python 3",
   "language": "python",
   "name": "python3"
  },
  "language_info": {
   "codemirror_mode": {
    "name": "ipython",
    "version": 3
   },
   "file_extension": ".py",
   "mimetype": "text/x-python",
   "name": "python",
   "nbconvert_exporter": "python",
   "pygments_lexer": "ipython3",
   "version": "3.8.5"
  }
 },
 "nbformat": 4,
 "nbformat_minor": 4
}
