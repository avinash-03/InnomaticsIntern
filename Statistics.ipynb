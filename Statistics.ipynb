{
 "cells": [
  {
   "cell_type": "code",
   "execution_count": 1,
   "metadata": {
    "ExecuteTime": {
     "end_time": "2021-10-27T03:40:03.329534Z",
     "start_time": "2021-10-27T03:40:02.422826Z"
    }
   },
   "outputs": [],
   "source": [
    "import numpy as np\n",
    "from statistics import mode"
   ]
  },
  {
   "cell_type": "markdown",
   "metadata": {
    "ExecuteTime": {
     "end_time": "2021-10-23T13:38:54.280211Z",
     "start_time": "2021-10-23T13:38:49.524005Z"
    }
   },
   "source": [
    "#  Mean, Mode and median\n",
    "Given an array, X , of n integers, calculate and print the respective mean, median, and mode on separate lines. If your array contains more than one modal value, choose the numerically smallest one."
   ]
  },
  {
   "cell_type": "code",
   "execution_count": 12,
   "metadata": {
    "ExecuteTime": {
     "end_time": "2021-10-23T13:42:14.543594Z",
     "start_time": "2021-10-23T13:42:14.520082Z"
    }
   },
   "outputs": [],
   "source": [
    "n=7\n",
    "x =[1,2, 3, 4, 5, 5,6]"
   ]
  },
  {
   "cell_type": "code",
   "execution_count": 29,
   "metadata": {
    "ExecuteTime": {
     "end_time": "2021-10-23T13:57:39.109233Z",
     "start_time": "2021-10-23T13:57:39.101231Z"
    }
   },
   "outputs": [
    {
     "name": "stdout",
     "output_type": "stream",
     "text": [
      "3.714\n",
      "4.0\n",
      "5\n"
     ]
    }
   ],
   "source": [
    "print(round(np.mean(x,),3))\n",
    "print(round(np.median(x,),3))\n",
    "print(round(mode(sorted(x)),3))"
   ]
  },
  {
   "cell_type": "markdown",
   "metadata": {},
   "source": [
    "# Day 1: Quartiles\n",
    "Given an array, A, of n integers, calculate the respective first quartile (Q1), second quartile (Q2), and third quartile (Q3). It is guaranteed that Q1, Q2, and  Q3 are integers."
   ]
  },
  {
   "cell_type": "code",
   "execution_count": 92,
   "metadata": {
    "ExecuteTime": {
     "end_time": "2021-10-27T07:14:50.023179Z",
     "start_time": "2021-10-27T07:14:50.003176Z"
    }
   },
   "outputs": [],
   "source": [
    "def quaritile(arr):\n",
    "    from statistics import median\n",
    "    le=len(arr)//2\n",
    "    if len(arr)%2!=0:\n",
    "        Q1=int(median(arr[:le]))\n",
    "        Q2=int(median(arr))\n",
    "        Q3=int(median(arr[le+1:]))\n",
    "        return Q1,Q2,Q3\n",
    "    else:\n",
    "        Q1=int(median(arr[:le]))\n",
    "        Q2=int(median(arr))\n",
    "        Q3=int(median(arr[le:]))\n",
    "        return Q1,Q2,Q3        \n",
    "    "
   ]
  },
  {
   "cell_type": "code",
   "execution_count": 42,
   "metadata": {
    "ExecuteTime": {
     "end_time": "2021-10-27T04:17:57.567960Z",
     "start_time": "2021-10-27T04:17:57.549402Z"
    }
   },
   "outputs": [
    {
     "data": {
      "text/plain": [
       "(6, 12, 16)"
      ]
     },
     "execution_count": 42,
     "metadata": {},
     "output_type": "execute_result"
    }
   ],
   "source": [
    "arr = [3,7,8,5,12,14,21,13,18]\n",
    "quaritile(arr)"
   ]
  },
  {
   "cell_type": "code",
   "execution_count": 39,
   "metadata": {
    "ExecuteTime": {
     "end_time": "2021-10-27T04:17:02.948480Z",
     "start_time": "2021-10-27T04:17:02.916439Z"
    }
   },
   "outputs": [
    {
     "data": {
      "text/plain": [
       "(2, 4, 6)"
      ]
     },
     "execution_count": 39,
     "metadata": {},
     "output_type": "execute_result"
    }
   ],
   "source": [
    "arr=[1,3,5,7]\n",
    "quaritile(arr)"
   ]
  },
  {
   "cell_type": "markdown",
   "metadata": {},
   "source": [
    "# Day 1: Standard Deviation\n",
    "Given an array, arr, of n integers, calculate and print the standard deviation. Your answer should be in  decimal form, rounded to a scale of 1 decimal place (i.e.,1.1  format). An error margin of +-10%  will be tolerated for the standard deviation."
   ]
  },
  {
   "cell_type": "code",
   "execution_count": 67,
   "metadata": {
    "ExecuteTime": {
     "end_time": "2021-10-27T05:08:05.009089Z",
     "start_time": "2021-10-27T05:08:04.985087Z"
    }
   },
   "outputs": [
    {
     "data": {
      "text/plain": [
       "14.1"
      ]
     },
     "execution_count": 67,
     "metadata": {},
     "output_type": "execute_result"
    }
   ],
   "source": [
    "arr=[10, 40, 30, 50, 20]\n",
    "from statistics import pstdev\n",
    "round(pstdev(arr),1)"
   ]
  },
  {
   "cell_type": "markdown",
   "metadata": {},
   "source": [
    "# Day 1: Interquartile Range\n",
    "The interquartile range of an array is the difference between its first (Q1) and third (Q3) quartiles (i.e.,Q3-Q1 ).\n",
    "\n",
    "Given an array,values , of n integers and an array,freqs , representing the respective frequencies of \n",
    "valuess elements, construct a data set,S , where each values[i] occurs at frequency freqs[i] . Then calculate and print S's\n",
    "interquartile range, rounded to a scale of 1 decimal place (i.e.,23.1  format)."
   ]
  },
  {
   "cell_type": "code",
   "execution_count": 107,
   "metadata": {
    "ExecuteTime": {
     "end_time": "2021-10-27T07:36:36.470397Z",
     "start_time": "2021-10-27T07:36:36.457400Z"
    }
   },
   "outputs": [],
   "source": [
    "from collections import Counter\n",
    "from statistics import median\n",
    "def interQuartile(values, freqs):\n",
    "    arr=list(Counter(dict(zip(values,freqs))).elements())\n",
    "    arr=sorted(arr)\n",
    "    le=len(arr)//2\n",
    "    if len(arr)%2!=0:\n",
    "        Q1=float(median(arr[:le]))\n",
    "        Q2=int(median(arr))\n",
    "        Q3=float(median(arr[le+1:]))\n",
    "        print(round(Q3-Q1,1))\n",
    "    else:\n",
    "        Q1=float(median(arr[:le]))\n",
    "        Q2=int(median(arr))\n",
    "        Q3=float(median(arr[le:]))\n",
    "        print(round(Q3-Q1,1))"
   ]
  },
  {
   "cell_type": "code",
   "execution_count": 110,
   "metadata": {
    "ExecuteTime": {
     "end_time": "2021-10-27T07:37:02.991899Z",
     "start_time": "2021-10-27T07:37:02.985902Z"
    }
   },
   "outputs": [
    {
     "name": "stdout",
     "output_type": "stream",
     "text": [
      "9.0\n"
     ]
    }
   ],
   "source": [
    "\n",
    "values = [6, 12, 8, 10, 20, 16]\n",
    "freqs = [5, 4, 3, 2, 1, 5]\n",
    "interQuartile(values,freqs)"
   ]
  },
  {
   "cell_type": "code",
   "execution_count": 111,
   "metadata": {
    "ExecuteTime": {
     "end_time": "2021-10-27T07:37:20.830438Z",
     "start_time": "2021-10-27T07:37:20.821437Z"
    }
   },
   "outputs": [
    {
     "name": "stdout",
     "output_type": "stream",
     "text": [
      "30.0\n"
     ]
    }
   ],
   "source": [
    "a=[10, 40, 30, 50, 20, 10, 40, 30, 50, 20, 1, 2, 3, 4, 5, 6, 7, 8, 9, 10, 20, 10, 40, 30, 50, 20, 10, 40, 30, 50]\n",
    "b=[1, 2, 3, 4, 5, 6, 7, 8, 9, 10, 1, 2, 3, 4, 5, 6, 7, 8, 9, 10, 10, 40, 30, 50, 20, 10, 40, 30, 50, 20]\n",
    "c=list(Counter(dict(zip(a,b))).elements())\n",
    "\n",
    "c=sorted(c)\n",
    "quaritile(c)\n",
    "interQuartile(a,b)"
   ]
  },
  {
   "cell_type": "markdown",
   "metadata": {
    "ExecuteTime": {
     "end_time": "2021-10-23T17:44:06.378091Z",
     "start_time": "2021-10-23T17:44:06.364089Z"
    }
   },
   "source": [
    "#  Q1 Binomial Distribution I\n",
    "The ratio of boys to girls for babies born in Russia is 1.09 : 1. If there is 1 child born per birth, what proportion of Russian families with exactly 6 children will have at least 3 boys?\n"
   ]
  },
  {
   "cell_type": "code",
   "execution_count": 1,
   "metadata": {
    "ExecuteTime": {
     "end_time": "2021-10-25T02:38:45.912254Z",
     "start_time": "2021-10-25T02:38:45.895256Z"
    }
   },
   "outputs": [],
   "source": [
    "from math import factorial\n",
    "def bi_dist(x,n,p):\n",
    "    b= (factorial(n)/(factorial(x)*factorial(n-x))* p**(x) * (1-p)**(n-x))\n",
    "    return b\n",
    "b,n,p=0,6,1.09/2.09\n",
    "for i in range(3,7):\n",
    "    b+=bi_dist(i,n,p)"
   ]
  },
  {
   "cell_type": "markdown",
   "metadata": {},
   "source": [
    "# Q2 Binomial Distribution II\n",
    "A manufacturer of metal pistons finds that, on average,  of the pistons they manufacture are rejected because they are incorrectly sized. What is the probability that a batch of  pistons will contain:\n",
    "\n",
    "    1) No more than 2 rejects?\n",
    "    2) At least 2 rejects?"
   ]
  },
  {
   "cell_type": "code",
   "execution_count": 64,
   "metadata": {
    "ExecuteTime": {
     "end_time": "2021-10-23T18:20:36.460514Z",
     "start_time": "2021-10-23T18:20:36.455516Z"
    }
   },
   "outputs": [
    {
     "name": "stdout",
     "output_type": "stream",
     "text": [
      "0.891\n"
     ]
    }
   ],
   "source": [
    "# no more than 2 rejects <=2\n",
    "b, n,p = 0,10,0.12\n",
    "for i in range(0,3):\n",
    "    b +=bi_dist(i,n,p)\n",
    "print('%.3f' %b)"
   ]
  },
  {
   "cell_type": "code",
   "execution_count": 2,
   "metadata": {
    "ExecuteTime": {
     "end_time": "2021-10-25T02:42:45.057271Z",
     "start_time": "2021-10-25T02:42:45.043267Z"
    }
   },
   "outputs": [
    {
     "name": "stdout",
     "output_type": "stream",
     "text": [
      "0.342\n"
     ]
    }
   ],
   "source": [
    "# AT least 2 rejects\n",
    "b,n,p= 0, 10, 0.12\n",
    "for i in range(0,2):\n",
    "    b +=bi_dist(i,n,p)\n",
    "print('%.3f' %(1-b))"
   ]
  },
  {
   "cell_type": "markdown",
   "metadata": {},
   "source": [
    "# Q3 Normal Distribution I\n",
    "In a certain plant, the time taken to assemble a car is a random variable, X, having a normal distribution with a mean of  20 hours and a standard deviation of 2 hours. What is the probability that a car can be assembled at this plant in:\n",
    "\n",
    "1. Less than 79.5 hours?\n",
    "2. Between 20 and 22 hours?"
   ]
  },
  {
   "cell_type": "code",
   "execution_count": 45,
   "metadata": {
    "ExecuteTime": {
     "end_time": "2021-10-25T05:22:27.152173Z",
     "start_time": "2021-10-25T05:22:27.133178Z"
    }
   },
   "outputs": [],
   "source": [
    "def ProbNorm(value,mean,std_dev):\n",
    "    from statistics import NormalDist\n",
    "    z=(value-mean)/std_dev\n",
    "    return round(NormalDist().cdf(z),4)\n",
    "    "
   ]
  },
  {
   "cell_type": "code",
   "execution_count": 46,
   "metadata": {
    "ExecuteTime": {
     "end_time": "2021-10-25T05:22:27.641180Z",
     "start_time": "2021-10-25T05:22:27.632178Z"
    }
   },
   "outputs": [
    {
     "data": {
      "text/plain": [
       "0.4013"
      ]
     },
     "execution_count": 46,
     "metadata": {},
     "output_type": "execute_result"
    }
   ],
   "source": [
    "# less than 19.5 houres\n",
    "ProbNorm(19.5,20,2)"
   ]
  },
  {
   "cell_type": "code",
   "execution_count": 47,
   "metadata": {
    "ExecuteTime": {
     "end_time": "2021-10-25T05:22:28.301717Z",
     "start_time": "2021-10-25T05:22:28.287717Z"
    }
   },
   "outputs": [
    {
     "data": {
      "text/plain": [
       "0.34130000000000005"
      ]
     },
     "execution_count": 47,
     "metadata": {},
     "output_type": "execute_result"
    }
   ],
   "source": [
    "# Between 20 and 22 hours\n",
    "ProbNorm(22,20,2)-ProbNorm(20,20,2)"
   ]
  },
  {
   "cell_type": "markdown",
   "metadata": {
    "ExecuteTime": {
     "end_time": "2021-10-25T06:27:05.517264Z",
     "start_time": "2021-10-25T06:27:05.475231Z"
    }
   },
   "source": [
    "# Q4 Normal Distribution II\n",
    "The final grades for a Physics exam taken by a large group of students have a mean of μ=70  and a σ=10 standard deviation of . If we can approximate the distribution of these grades by a normal distribution, what percentage of the students:\n",
    "\n",
    "1. Scored higher than 80  (i.e., have a >80)?\n",
    "2. Passed the test (i.e., have a >=60)?\n",
    "3. Failed the test (i.e., have a <60)?    \n",
    "Find and print the answer to each question on a new line, rounded to a scale of  decimal places."
   ]
  },
  {
   "cell_type": "code",
   "execution_count": 52,
   "metadata": {
    "ExecuteTime": {
     "end_time": "2021-10-25T06:35:30.217600Z",
     "start_time": "2021-10-25T06:35:30.201605Z"
    }
   },
   "outputs": [
    {
     "data": {
      "text/plain": [
       "0.16"
      ]
     },
     "execution_count": 52,
     "metadata": {},
     "output_type": "execute_result"
    }
   ],
   "source": [
    "# 1. Scored higher than 80 P>=80\n",
    "round(1-ProbNorm(80,70,10),2)"
   ]
  },
  {
   "cell_type": "code",
   "execution_count": 57,
   "metadata": {
    "ExecuteTime": {
     "end_time": "2021-10-25T06:37:36.097507Z",
     "start_time": "2021-10-25T06:37:36.073505Z"
    }
   },
   "outputs": [
    {
     "data": {
      "text/plain": [
       "0.8412999999999999"
      ]
     },
     "execution_count": 57,
     "metadata": {},
     "output_type": "execute_result"
    }
   ],
   "source": [
    "# 2. Passed the test\n",
    "1-ProbNorm(60,70,10)"
   ]
  },
  {
   "cell_type": "code",
   "execution_count": 59,
   "metadata": {
    "ExecuteTime": {
     "end_time": "2021-10-25T06:38:13.621817Z",
     "start_time": "2021-10-25T06:38:13.597813Z"
    }
   },
   "outputs": [
    {
     "data": {
      "text/plain": [
       "0.1587"
      ]
     },
     "execution_count": 59,
     "metadata": {},
     "output_type": "execute_result"
    }
   ],
   "source": [
    "# 3. failed the test\n",
    "ProbNorm(60,70,10)"
   ]
  },
  {
   "cell_type": "markdown",
   "metadata": {},
   "source": [
    "# Day 4 Geometrical Distribution\n",
    "The probability that a machine produces a defective product is 1/3 . What is the probability that the 1st defect occurs the 5th item produced?"
   ]
  },
  {
   "cell_type": "markdown",
   "metadata": {},
   "source": []
  },
  {
   "cell_type": "code",
   "execution_count": 10,
   "metadata": {
    "ExecuteTime": {
     "end_time": "2021-11-05T08:14:21.153089Z",
     "start_time": "2021-11-05T08:14:21.136107Z"
    }
   },
   "outputs": [],
   "source": [
    "def prob(p,c):\n",
    "    q=1-p\n",
    "    return round(q**(c-1) * p,3)"
   ]
  },
  {
   "cell_type": "code",
   "execution_count": 12,
   "metadata": {
    "ExecuteTime": {
     "end_time": "2021-11-05T08:14:37.548096Z",
     "start_time": "2021-11-05T08:14:37.532073Z"
    }
   },
   "outputs": [
    {
     "data": {
      "text/plain": [
       "0.066"
      ]
     },
     "execution_count": 12,
     "metadata": {},
     "output_type": "execute_result"
    }
   ],
   "source": [
    "prob(1/3,5)"
   ]
  },
  {
   "cell_type": "code",
   "execution_count": 13,
   "metadata": {
    "ExecuteTime": {
     "end_time": "2021-11-05T11:53:50.907111Z",
     "start_time": "2021-11-05T11:53:50.834904Z"
    }
   },
   "outputs": [
    {
     "name": "stdout",
     "output_type": "stream",
     "text": [
      "0.868\n"
     ]
    }
   ],
   "source": [
    "print(round(1 - (1 - (1 / 3))**5, 3))"
   ]
  },
  {
   "cell_type": "code",
   "execution_count": 24,
   "metadata": {
    "ExecuteTime": {
     "end_time": "2021-11-05T12:25:52.034596Z",
     "start_time": "2021-11-05T12:25:52.015145Z"
    }
   },
   "outputs": [
    {
     "ename": "SyntaxError",
     "evalue": "invalid syntax (<ipython-input-24-786c16dc6396>, line 2)",
     "output_type": "error",
     "traceback": [
      "\u001b[1;36m  File \u001b[1;32m\"<ipython-input-24-786c16dc6396>\"\u001b[1;36m, line \u001b[1;32m2\u001b[0m\n\u001b[1;33m    4e\u001b[0m\n\u001b[1;37m     ^\u001b[0m\n\u001b[1;31mSyntaxError\u001b[0m\u001b[1;31m:\u001b[0m invalid syntax\n"
     ]
    }
   ],
   "source": [
    "from math import exp as e\n",
    "4e"
   ]
  },
  {
   "cell_type": "code",
   "execution_count": 18,
   "metadata": {
    "ExecuteTime": {
     "end_time": "2021-11-05T12:20:04.079498Z",
     "start_time": "2021-11-05T12:19:47.641781Z"
    }
   },
   "outputs": [
    {
     "name": "stdout",
     "output_type": "stream",
     "text": [
      "1 3\n",
      "5\n",
      "0.868\n"
     ]
    }
   ],
   "source": [
    "frac=input().split(' ')\n",
    "n=int(input())\n",
    "p=int(frac[0])/int(frac[1])\n",
    "q=1-p\n",
    "prob=1-q**n\n",
    "print(round(prob,3))"
   ]
  },
  {
   "cell_type": "code",
   "execution_count": 19,
   "metadata": {
    "ExecuteTime": {
     "end_time": "2021-11-05T12:20:20.048967Z",
     "start_time": "2021-11-05T12:20:20.032952Z"
    }
   },
   "outputs": [
    {
     "data": {
      "text/plain": [
       "97.65625"
      ]
     },
     "execution_count": 19,
     "metadata": {},
     "output_type": "execute_result"
    }
   ],
   "source": [
    "2.5**5"
   ]
  },
  {
   "cell_type": "markdown",
   "metadata": {
    "ExecuteTime": {
     "end_time": "2021-10-25T08:49:15.758176Z",
     "start_time": "2021-10-25T08:49:15.726173Z"
    }
   },
   "source": [
    "# Q5 Day 6: The Central Limit Theorem I\n",
    "A large elevator can transport a maximum of 9800 pounds. Suppose a load of cargo containing 49 boxes must be \n",
    "transported via the elevator. The box weight of this type of cargo follows a distribution with a mean of 205 pounds and a standard deviation of 15 pounds. Based on this information, what is the probability that all 49 boxes can be safely loaded into the freight elevator and transported?"
   ]
  },
  {
   "cell_type": "code",
   "execution_count": 7,
   "metadata": {
    "ExecuteTime": {
     "end_time": "2021-10-25T12:27:33.316937Z",
     "start_time": "2021-10-25T12:27:33.300950Z"
    }
   },
   "outputs": [],
   "source": [
    "def ProbCLT(value,mean,std_dev,n) -> \"n=number of sample\":\n",
    "    from statistics import NormalDist\n",
    "    z=(value-(mean*n))/(std_dev*n**0.5)\n",
    "    return round(NormalDist().cdf(z),4)"
   ]
  },
  {
   "cell_type": "code",
   "execution_count": 77,
   "metadata": {
    "ExecuteTime": {
     "end_time": "2021-10-25T09:24:56.247705Z",
     "start_time": "2021-10-25T09:24:56.237705Z"
    }
   },
   "outputs": [
    {
     "data": {
      "text/plain": [
       "0.0098"
      ]
     },
     "execution_count": 77,
     "metadata": {},
     "output_type": "execute_result"
    }
   ],
   "source": [
    "round(ProbCLT(9800,205,15,49),4)"
   ]
  },
  {
   "cell_type": "markdown",
   "metadata": {},
   "source": [
    "# Q6 The Central Limit Theorem II\n",
    "The number of tickets purchased by each student for the University X vs. University Y football game follows a distribution that has a mean of 2.4 and a standard deviation of 2.0.\n",
    "\n",
    "A few hours before the game starts, 100 eager students line up to purchase last-minute tickets. If there are only 250 tickets left, what is the probability that all 100 students will be able to purchase tickets?"
   ]
  },
  {
   "cell_type": "code",
   "execution_count": 11,
   "metadata": {
    "ExecuteTime": {
     "end_time": "2021-10-25T12:29:03.981960Z",
     "start_time": "2021-10-25T12:29:03.965959Z"
    }
   },
   "outputs": [
    {
     "data": {
      "text/plain": [
       "0.6915"
      ]
     },
     "execution_count": 11,
     "metadata": {},
     "output_type": "execute_result"
    }
   ],
   "source": [
    "ProbCLT(250,2.4,2,100)"
   ]
  },
  {
   "cell_type": "markdown",
   "metadata": {},
   "source": [
    "# Q7 Day 6: The Central Limit Theorem III\n",
    "You have a sample of 100 values from a population with mean 500 and with standard deviation 80. Compute the interval that covers the middle 95% of the distribution of the sample mean; in other words, compute A and B such that P(A < x < B). Use the value of z=1.96. Note that z is the z-score."
   ]
  },
  {
   "cell_type": "code",
   "execution_count": 37,
   "metadata": {
    "ExecuteTime": {
     "end_time": "2021-10-25T14:00:19.971852Z",
     "start_time": "2021-10-25T14:00:19.955843Z"
    }
   },
   "outputs": [],
   "source": [
    "def intrval(z,n,mean,std_dev):\n",
    "    '''for the 95% zscore=1.96\n",
    "    93% z score=1.645\n",
    "    99% z score=1.99\n",
    "    ''' \n",
    "    cl= z * (std_dev/n**0.5)\n",
    "    A= mean - cl\n",
    "    B= mean + cl\n",
    "    return A,B "
   ]
  },
  {
   "cell_type": "code",
   "execution_count": 40,
   "metadata": {
    "ExecuteTime": {
     "end_time": "2021-10-25T14:03:09.455406Z",
     "start_time": "2021-10-25T14:03:09.447411Z"
    }
   },
   "outputs": [
    {
     "data": {
      "text/plain": [
       "(484.32, 515.68)"
      ]
     },
     "execution_count": 40,
     "metadata": {},
     "output_type": "execute_result"
    }
   ],
   "source": [
    "A,B=intrval(1.96,100,500,80)\n",
    "A,B"
   ]
  },
  {
   "cell_type": "code",
   "execution_count": null,
   "metadata": {},
   "outputs": [],
   "source": [
    "def get_rank(X, n):\n",
    "    x_rank = dict((x, i+1) for i, x in enumerate(sorted(set(X))))\n",
    "    return [x_rank[x] for x in X]\n",
    "    \n",
    "n = int(input())\n",
    "X = list(map(float, input().split()))\n",
    "Y = list(map(float, input().split()))\n",
    "\n",
    "rx = get_rank(X, n)\n",
    "ry = get_rank(Y, n)\n",
    "\n",
    "d = [(rx[i] -ry[i])**2 for i in range(n)]\n",
    "rxy = 1 - (6 * sum(d)) / (n * (n*n - 1))\n",
    "\n",
    "print('%.3f' % rxy)"
   ]
  },
  {
   "cell_type": "code",
   "execution_count": 4,
   "metadata": {
    "ExecuteTime": {
     "end_time": "2021-11-07T15:00:46.832741Z",
     "start_time": "2021-11-07T15:00:46.808740Z"
    }
   },
   "outputs": [
    {
     "name": "stdout",
     "output_type": "stream",
     "text": [
      "0 7\n",
      "1 6\n",
      "2 5\n",
      "3 4\n",
      "4 3\n",
      "5 2\n"
     ]
    }
   ],
   "source": [
    "x=[2,3,4,5,6,7]\n",
    "for i, x in enumerate(sorted(x,reverse=True)):\n",
    "    print(i,x)\n",
    "    \n"
   ]
  },
  {
   "cell_type": "code",
   "execution_count": null,
   "metadata": {},
   "outputs": [],
   "source": []
  },
  {
   "cell_type": "markdown",
   "metadata": {
    "ExecuteTime": {
     "end_time": "2021-10-25T14:00:21.341690Z",
     "start_time": "2021-10-25T14:00:21.325644Z"
    }
   },
   "source": [
    "# Q8 Day &: Pearson Correlation Coefficient\n",
    "Given two n-element data sets, X and Y, calculate the value of the Pearson correlation coefficient."
   ]
  },
  {
   "cell_type": "code",
   "execution_count": 63,
   "metadata": {
    "ExecuteTime": {
     "end_time": "2021-10-25T15:10:47.835606Z",
     "start_time": "2021-10-25T15:10:47.819604Z"
    }
   },
   "outputs": [],
   "source": [
    "x=[10,9.8,8,7.8,7.7,7,6,5,4,2]\n",
    "y=[200,44,32,24,22,17,15,12,8,4]"
   ]
  },
  {
   "cell_type": "code",
   "execution_count": 90,
   "metadata": {
    "ExecuteTime": {
     "end_time": "2021-10-25T15:43:06.713021Z",
     "start_time": "2021-10-25T15:43:06.697012Z"
    }
   },
   "outputs": [
    {
     "data": {
      "text/plain": [
       "0.612"
      ]
     },
     "execution_count": 90,
     "metadata": {},
     "output_type": "execute_result"
    }
   ],
   "source": [
    "def pearson_coff(x,y,n):\n",
    "    import statistics as st\n",
    "    min_x,min_y=st.mean(x),st.mean(y)\n",
    "    std_x,std_y=st.pstdev(x),st.pstdev(y)\n",
    "    cov = sum([(x[i]-min_x) * (y[i]-min_y) for i in range(n)])\n",
    "    corr= cov/(n*std_x*std_y)\n",
    "    return round(corr,3)\n",
    "person_coff(x,y,n=10)"
   ]
  },
  {
   "cell_type": "markdown",
   "metadata": {},
   "source": [
    "# Q9 Day8 : Least Square Regression Line\n",
    "A group of five students enrolls in Statistics immediately after taking a Math aptitude test. Each student's Math aptitude test score, x, and Statistics course grade,y , can be expressed as the following list of(x,y)  points:\n",
    "If a student scored an 80 on the Math aptitude test, what grade would we expect them to achieve in Statistics? Determine the equation of the best-fit line using the least squares method, then compute and print the value of y when x=80 ."
   ]
  },
  {
   "cell_type": "code",
   "execution_count": 117,
   "metadata": {
    "ExecuteTime": {
     "end_time": "2021-10-25T18:30:30.537222Z",
     "start_time": "2021-10-25T18:30:30.523226Z"
    }
   },
   "outputs": [],
   "source": [
    "from statistics import mean\n",
    "def lestRegr(x,y,xval):\n",
    "    me_x=mean(x)\n",
    "    me_y=mean(y)\n",
    "    sxy=sum([(x[i]-me_x) * (y[i]-me_y) for i in range(len(x))])\n",
    "    sxx=sum([(x-me_x)**2 for x in x])\n",
    "    b=sxy/sxx\n",
    "    a=me_y-(b*me_x)\n",
    "    yval=a+(b*xval)\n",
    "    return round(yval,3)"
   ]
  },
  {
   "cell_type": "code",
   "execution_count": 118,
   "metadata": {
    "ExecuteTime": {
     "end_time": "2021-10-25T18:30:32.046675Z",
     "start_time": "2021-10-25T18:30:32.038677Z"
    }
   },
   "outputs": [
    {
     "data": {
      "text/plain": [
       "78.288"
      ]
     },
     "execution_count": 118,
     "metadata": {},
     "output_type": "execute_result"
    }
   ],
   "source": [
    "x=[95,85,80,70,60]\n",
    "y=[85,95,70,65,70]\n",
    "lestRegr(x,y,80)"
   ]
  },
  {
   "cell_type": "markdown",
   "metadata": {
    "ExecuteTime": {
     "end_time": "2021-10-26T04:51:50.511567Z",
     "start_time": "2021-10-26T04:51:50.479554Z"
    }
   },
   "source": [
    "# Q10 Day 9 Multiple Linear Regression\n",
    "Andrea has a simple equation:   \n",
    "              $Y=a+b1.f1 + b2.f2 ...+bm.fm$     \n",
    "for (m+1) real constants (a,f1 ,f2 ,.. ,fm ). We can say that the value of Y depends on m features. Andrea studies this equation for  different n feature sets (a,f1 ,f2 ,.. ,fm ) and records each respective value of Y. If she has q new feature sets, can you help Andrea find the value of Y for each of the sets?\n",
    "Note: You are not expected to account for bias and variance trade-offs."
   ]
  },
  {
   "cell_type": "code",
   "execution_count": 101,
   "metadata": {
    "ExecuteTime": {
     "end_time": "2021-10-26T12:50:46.212078Z",
     "start_time": "2021-10-26T12:50:46.206077Z"
    }
   },
   "outputs": [],
   "source": [
    "import numpy as np\n",
    "def multiregr(X,Y,x_n):\n",
    "    x=np.array(X,float)\n",
    "    y=np.array(Y,float)\n",
    "    x_new=np.array(x_n,float)\n",
    "    # center\n",
    "    x_R=x-np.mean(x,axis=0)\n",
    "    y_R=y-np.mean(y)\n",
    "    #calculate beta\n",
    "    beta = np.dot(np.linalg.inv(np.dot(x_R.T,x_R)),np.dot(x_R.T,y_R))\n",
    "    \n",
    "    # predict\n",
    "    x_new_R = x_new-np.mean(x,axis=0)\n",
    "    y_new_R=np.dot(x_new_R,beta)\n",
    "    y_new=y_new_R+np.mean(y)\n",
    "    return y_new\n",
    "    \n",
    "    "
   ]
  },
  {
   "cell_type": "code",
   "execution_count": 106,
   "metadata": {
    "ExecuteTime": {
     "end_time": "2021-10-26T12:55:49.323917Z",
     "start_time": "2021-10-26T12:55:49.305154Z"
    }
   },
   "outputs": [],
   "source": [
    "# input\n",
    "x=[[0.18, 0.89],\n",
    " [1.0, 0.26],\n",
    " [0.92, 0.11],\n",
    " [0.07, 0.37],\n",
    " [0.85, 0.16],\n",
    " [0.99, 0.41],\n",
    " [0.87, 0.47]]\n",
    "y=[109.85,155.72,137.66,76.17,139.75,162.6,151.77]\n",
    "x_new = [[0.49, 0.18], [0.57, 0.83], [0.56, 0.64], [0.76, 0.18]]\n"
   ]
  },
  {
   "cell_type": "code",
   "execution_count": 114,
   "metadata": {
    "ExecuteTime": {
     "end_time": "2021-10-26T13:09:59.933589Z",
     "start_time": "2021-10-26T13:09:59.922585Z"
    }
   },
   "outputs": [
    {
     "name": "stdout",
     "output_type": "stream",
     "text": [
      "105.21\n",
      "142.67\n",
      "132.94\n",
      "129.7\n"
     ]
    }
   ],
   "source": [
    "y_new=multiregr(x,y,x_new)\n",
    "for i in y_new:\n",
    "    print(round(i,2))"
   ]
  },
  {
   "cell_type": "code",
   "execution_count": null,
   "metadata": {},
   "outputs": [],
   "source": []
  }
 ],
 "metadata": {
  "interpreter": {
   "hash": "b3ba2566441a7c06988d0923437866b63cedc61552a5af99d1f4fb67d367b25f"
  },
  "kernelspec": {
   "display_name": "Python 3",
   "language": "python",
   "name": "python3"
  },
  "language_info": {
   "codemirror_mode": {
    "name": "ipython",
    "version": 3
   },
   "file_extension": ".py",
   "mimetype": "text/x-python",
   "name": "python",
   "nbconvert_exporter": "python",
   "pygments_lexer": "ipython3",
   "version": "3.8.5"
  }
 },
 "nbformat": 4,
 "nbformat_minor": 4
}
