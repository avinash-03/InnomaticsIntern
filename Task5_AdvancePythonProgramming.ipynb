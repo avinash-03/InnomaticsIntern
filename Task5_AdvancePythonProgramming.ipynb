{
 "cells": [
  {
   "cell_type": "code",
   "execution_count": 33,
   "metadata": {
    "ExecuteTime": {
     "end_time": "2021-10-22T09:16:19.040682Z",
     "start_time": "2021-10-22T09:16:19.016665Z"
    }
   },
   "outputs": [],
   "source": [
    "class Solution:\n",
    "    def subsets(nums) -> [int]:\n",
    "        from itertools import combinations\n",
    "        new_list=[[]]\n",
    "        for i in range(1,len(nums)+1):\n",
    "            c=combinations(nums,i)\n",
    "            for i in c:\n",
    "                new_list.append(list(i))\n",
    "        return new_list\n",
    "    \n",
    "    def hammingDistance(x, y):\n",
    "        res = 0\n",
    "        if x==y:\n",
    "            return res\n",
    "        t = x^y\n",
    "        while t!=0:\n",
    "            res += t%2\n",
    "            t>>= 1\n",
    "        return res  \n",
    "    \n",
    "    def singleNumber(nums) -> int:\n",
    "        dic={}\n",
    "        for num in nums:\n",
    "            if num not in dic:\n",
    "                dic[num]=1\n",
    "            else:\n",
    "                dic[num]+=1\n",
    "        return min(dic, key=dic.get)\n",
    "    \n",
    "    "
   ]
  },
  {
   "cell_type": "markdown",
   "metadata": {},
   "source": [
    "# Q1 Subsets\n",
    "Input: nums = [1,2,3]<br>\n",
    "Output: [[],[1],[2],[1,2],[3],[1,3],[2,3],[1,2,3]]"
   ]
  },
  {
   "cell_type": "code",
   "execution_count": 13,
   "metadata": {
    "ExecuteTime": {
     "end_time": "2021-10-22T08:17:48.352210Z",
     "start_time": "2021-10-22T08:17:48.328209Z"
    }
   },
   "outputs": [
    {
     "data": {
      "text/plain": [
       "[[], [1], [2], [3], [1, 2], [1, 3], [2, 3], [1, 2, 3]]"
      ]
     },
     "execution_count": 13,
     "metadata": {},
     "output_type": "execute_result"
    }
   ],
   "source": [
    "nums=[1,2,3]\n",
    "Solution.subsets(nums)"
   ]
  },
  {
   "cell_type": "markdown",
   "metadata": {},
   "source": [
    "# Q2 Hamming Distance\n",
    "Input: x = 1, y = 4<br>\n",
    "Output: 2"
   ]
  },
  {
   "cell_type": "code",
   "execution_count": 14,
   "metadata": {
    "ExecuteTime": {
     "end_time": "2021-10-22T08:17:52.232706Z",
     "start_time": "2021-10-22T08:17:52.216685Z"
    }
   },
   "outputs": [
    {
     "data": {
      "text/plain": [
       "2"
      ]
     },
     "execution_count": 14,
     "metadata": {},
     "output_type": "execute_result"
    }
   ],
   "source": [
    "x,y=1,4\n",
    "Solution.hammingDistance(x,y)"
   ]
  },
  {
   "cell_type": "markdown",
   "metadata": {},
   "source": [
    "# Q3 Single Number II\n",
    "Input: nums = [2,2,3,2]<br>\n",
    "Output: 3"
   ]
  },
  {
   "cell_type": "code",
   "execution_count": 35,
   "metadata": {
    "ExecuteTime": {
     "end_time": "2021-10-22T09:28:10.112139Z",
     "start_time": "2021-10-22T09:28:10.096135Z"
    }
   },
   "outputs": [
    {
     "data": {
      "text/plain": [
       "3"
      ]
     },
     "execution_count": 35,
     "metadata": {},
     "output_type": "execute_result"
    }
   ],
   "source": [
    "nums=[2,2,3,2]\n",
    "Solution.singleNumber(nums)"
   ]
  }
 ],
 "metadata": {
  "kernelspec": {
   "display_name": "Python 3",
   "language": "python",
   "name": "python3"
  },
  "language_info": {
   "codemirror_mode": {
    "name": "ipython",
    "version": 3
   },
   "file_extension": ".py",
   "mimetype": "text/x-python",
   "name": "python",
   "nbconvert_exporter": "python",
   "pygments_lexer": "ipython3",
   "version": "3.8.5"
  }
 },
 "nbformat": 4,
 "nbformat_minor": 4
}
