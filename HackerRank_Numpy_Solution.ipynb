{
 "cells": [
  {
   "cell_type": "markdown",
   "metadata": {},
   "source": [
    "# HackerRank Numpy Solution"
   ]
  },
  {
   "cell_type": "code",
   "execution_count": 1,
   "metadata": {
    "ExecuteTime": {
     "end_time": "2021-10-23T01:56:56.042629Z",
     "start_time": "2021-10-23T01:56:55.223701Z"
    }
   },
   "outputs": [],
   "source": [
    "import numpy as np"
   ]
  },
  {
   "cell_type": "markdown",
   "metadata": {},
   "source": [
    "# Q1 Arrays \n",
    "You are given a space separated list of numbers.Your task is to print a reversed NumPy array with the element type float.\n",
    "Input : arr = [-10.  -8.   4.   3.   2.   1.]<br>\n",
    "output : [  1.,   2.,   3.,   4.,  -8., -10.]"
   ]
  },
  {
   "cell_type": "code",
   "execution_count": 14,
   "metadata": {
    "ExecuteTime": {
     "end_time": "2021-10-22T13:56:02.789422Z",
     "start_time": "2021-10-22T13:56:02.771421Z"
    }
   },
   "outputs": [],
   "source": [
    "def arrays(arr):\n",
    "    import numpy as np\n",
    "    # complete this function\n",
    "    # use numpy.array\n",
    "    return np.flip(np.array(arr,float))"
   ]
  },
  {
   "cell_type": "code",
   "execution_count": 13,
   "metadata": {
    "ExecuteTime": {
     "end_time": "2021-10-22T13:55:23.376336Z",
     "start_time": "2021-10-22T13:55:23.360802Z"
    }
   },
   "outputs": [
    {
     "data": {
      "text/plain": [
       "array([  1.,   2.,   3.,   4.,  -8., -10.])"
      ]
     },
     "execution_count": 13,
     "metadata": {},
     "output_type": "execute_result"
    }
   ],
   "source": [
    "arr=[-10,  -8,   4,   3,  2,   1]\n",
    "arrays(arr)"
   ]
  },
  {
   "cell_type": "markdown",
   "metadata": {
    "ExecuteTime": {
     "end_time": "2021-10-22T13:48:36.478489Z",
     "start_time": "2021-10-22T13:48:36.456488Z"
    }
   },
   "source": [
    "# Q2 Shape and Reshape \n",
    "You are given a space separated list of nine integers. Your task is to convert this list into a X NumPy array.\n",
    "Input : arr = [-10.  -8.   4.   3.   2.   1. 5. 9. 6]<br>\n",
    "output: <br>\n",
    "([[10,  8,  4],<br>\n",
    "       [ 3,  2,  1],<br>\n",
    "       [ 5,  9,  6]])"
   ]
  },
  {
   "cell_type": "code",
   "execution_count": 20,
   "metadata": {
    "ExecuteTime": {
     "end_time": "2021-10-22T14:18:47.447638Z",
     "start_time": "2021-10-22T14:18:47.441640Z"
    }
   },
   "outputs": [
    {
     "data": {
      "text/plain": [
       "array([[10,  8,  4],\n",
       "       [ 3,  2,  1],\n",
       "       [ 5,  9,  6]])"
      ]
     },
     "execution_count": 20,
     "metadata": {},
     "output_type": "execute_result"
    }
   ],
   "source": [
    "arr=[10,8,4,3,2,1,5,9,6]\n",
    "np.reshape(arr,(3,3))"
   ]
  },
  {
   "cell_type": "markdown",
   "metadata": {
    "ExecuteTime": {
     "end_time": "2021-10-22T14:46:01.094818Z",
     "start_time": "2021-10-22T14:46:01.078820Z"
    }
   },
   "source": [
    "# Q3 Transpose and Flatten\n",
    "You are given a X integer array matrix with space separated elements ( = rows and  = columns).Your task is to print the transpose and flatten results.\n",
    "input:\n",
    "2 2<br>\n",
    "1 2<br>\n",
    "3 4<br>\n",
    "output:<br>\n",
    "[[1 3]<br>\n",
    " [2 4]]<br>\n",
    "[1 2 3 4]"
   ]
  },
  {
   "cell_type": "code",
   "execution_count": 31,
   "metadata": {
    "ExecuteTime": {
     "end_time": "2021-10-22T14:46:48.785923Z",
     "start_time": "2021-10-22T14:46:35.434318Z"
    }
   },
   "outputs": [
    {
     "name": "stdout",
     "output_type": "stream",
     "text": [
      "2 2\n",
      "1 2\n",
      "3 4\n",
      "[[1 3]\n",
      " [2 4]]\n",
      "[1 2 3 4]\n"
     ]
    }
   ],
   "source": [
    "import numpy as np\n",
    "n,m=map(int,input().split(' '))\n",
    "arr=np.array([input().strip().split(' ') for i in range(n)],int)\n",
    "print(np.transpose(arr))\n",
    "print(arr.flatten())"
   ]
  },
  {
   "cell_type": "markdown",
   "metadata": {
    "ExecuteTime": {
     "end_time": "2021-10-22T14:38:33.857663Z",
     "start_time": "2021-10-22T14:38:33.842664Z"
    }
   },
   "source": [
    "# Q4 Concatenate\n",
    "You are given two integer arrays of size X and X ( &  are rows, and  is the column). Your task is to concatenate the arrays along axis .\n",
    "Print the concatenated array of size X."
   ]
  },
  {
   "cell_type": "code",
   "execution_count": 6,
   "metadata": {
    "ExecuteTime": {
     "end_time": "2021-10-22T15:37:29.588442Z",
     "start_time": "2021-10-22T15:37:00.630004Z"
    }
   },
   "outputs": [
    {
     "name": "stdout",
     "output_type": "stream",
     "text": [
      "4 3 2\n",
      "1 2\n",
      "1 2\n",
      "1 2\n",
      "1 2\n",
      "3 4\n",
      "3 4\n",
      "3 4\n",
      "[[1 2]\n",
      " [1 2]\n",
      " [1 2]\n",
      " [1 2]\n",
      " [3 4]\n",
      " [3 4]\n",
      " [3 4]]\n"
     ]
    }
   ],
   "source": [
    "import numpy as np\n",
    "\n",
    "n,m,p=map(int,input().split(\" \"))\n",
    "arr1= np.array([input().strip().split(' ') for i in range(n)],int)\n",
    "arr2 = np.array([ input().strip().split(' ') for i in range(m)],int)\n",
    "print(np.concatenate((arr1,arr2)))\n"
   ]
  },
  {
   "cell_type": "markdown",
   "metadata": {},
   "source": [
    "# Q5 Zeros and Ones\n",
    "You are given the shape of the array in the form of space-separated integers, each integer representing the size of different dimensions, your task is to print an array of the given shape and integer type using the tools numpy.zeros and numpy.ones.\n",
    "input : 3 3 3\n"
   ]
  },
  {
   "cell_type": "code",
   "execution_count": 6,
   "metadata": {
    "ExecuteTime": {
     "end_time": "2021-10-22T17:22:38.373867Z",
     "start_time": "2021-10-22T17:22:35.079462Z"
    }
   },
   "outputs": [
    {
     "name": "stdout",
     "output_type": "stream",
     "text": [
      "3 3 3\n",
      "[[[0 0 0]\n",
      "  [0 0 0]\n",
      "  [0 0 0]]\n",
      "\n",
      " [[0 0 0]\n",
      "  [0 0 0]\n",
      "  [0 0 0]]\n",
      "\n",
      " [[0 0 0]\n",
      "  [0 0 0]\n",
      "  [0 0 0]]]\n",
      "[[[1 1 1]\n",
      "  [1 1 1]\n",
      "  [1 1 1]]\n",
      "\n",
      " [[1 1 1]\n",
      "  [1 1 1]\n",
      "  [1 1 1]]\n",
      "\n",
      " [[1 1 1]\n",
      "  [1 1 1]\n",
      "  [1 1 1]]]\n"
     ]
    }
   ],
   "source": [
    "import numpy as np\n",
    "num=tuple(map(int,input().strip().split(\" \")))\n",
    "print(np.zeros(num,dtype=int))\n",
    "print(np.ones(num,dtype=int))"
   ]
  },
  {
   "cell_type": "markdown",
   "metadata": {
    "ExecuteTime": {
     "end_time": "2021-10-22T17:25:05.037492Z",
     "start_time": "2021-10-22T17:25:05.033504Z"
    }
   },
   "source": [
    "# Q6 Eye and Identity\n",
    "Your task is to print an array of size N*M with its main diagonal elements as 1's and 0's everywhere else.\n",
    "input: 3 3 "
   ]
  },
  {
   "cell_type": "code",
   "execution_count": 16,
   "metadata": {
    "ExecuteTime": {
     "end_time": "2021-10-22T17:36:50.672151Z",
     "start_time": "2021-10-22T17:36:47.175476Z"
    }
   },
   "outputs": [
    {
     "name": "stdout",
     "output_type": "stream",
     "text": [
      "3 3\n",
      "[[ 1.  0.  0.]\n",
      " [ 0.  1.  0.]\n",
      " [ 0.  0.  1.]]\n"
     ]
    }
   ],
   "source": [
    "n,m=map(int,input().strip().split())\n",
    "print(str(np.eye(n,m)).replace('0',' 0').replace('1',' 1'))"
   ]
  },
  {
   "cell_type": "markdown",
   "metadata": {},
   "source": [
    "# Q7 Array Mathematics \n",
    "You are given two integer  arrays, A and B of dimensions n*m.Your task is to perform the following operations:\n",
    "\n",
    "Add (A + B)<br>\n",
    "Subtract (A -B )<br>\n",
    "Multiply (A *B )<br>\n",
    "Integer Division (A / B)<br>\n",
    "Mod ( A%B )<br>\n",
    "Power ( A**B )"
   ]
  },
  {
   "cell_type": "code",
   "execution_count": 25,
   "metadata": {
    "ExecuteTime": {
     "end_time": "2021-10-23T02:25:49.599317Z",
     "start_time": "2021-10-23T02:25:19.858314Z"
    }
   },
   "outputs": [
    {
     "name": "stdout",
     "output_type": "stream",
     "text": [
      "1 4\n",
      "1 2 3 4\n",
      "5 6 7 8\n",
      "[[ 6  8 10 12]]\n",
      "[[-4 -4 -4 -4]]\n",
      "[[ 5 12 21 32]]\n",
      "[[0 0 0 0]]\n",
      "[[1 2 3 4]]\n",
      "[[    1    64  2187 65536]]\n"
     ]
    }
   ],
   "source": [
    "import numpy as np\n",
    "n,m=map(int,input().split(' '))\n",
    "arr1=np.array([input().strip().split(\" \") for _ in range(n)],int)\n",
    "arr2=np.array([input().strip().split(' ') for _ in range(n)],int)\n",
    "print(arr1+arr2)\n",
    "print(arr1-arr2)\n",
    "print(arr1*arr2)\n",
    "print(arr1//arr2)\n",
    "print(np.mod(arr1,arr2))\n",
    "print(np.power(arr1,arr2))"
   ]
  },
  {
   "cell_type": "markdown",
   "metadata": {},
   "source": [
    "# Q8 Floor, Ceil and Rint\n",
    "You are given a 1-D array, A. Your task is to print the floor,ceil  and rint of all the elements of ."
   ]
  },
  {
   "cell_type": "code",
   "execution_count": 31,
   "metadata": {
    "ExecuteTime": {
     "end_time": "2021-10-23T02:46:44.170083Z",
     "start_time": "2021-10-23T02:46:44.146149Z"
    }
   },
   "outputs": [
    {
     "name": "stdout",
     "output_type": "stream",
     "text": [
      "[ 1.  2.  3.  4.  5.  6.  7.  8.  9.]\n",
      "[  2.   3.   4.   5.   6.   7.   8.   9.  10.]\n",
      "[  1.   2.   3.   4.   6.   7.   8.   9.  10.]\n"
     ]
    }
   ],
   "source": [
    "arr1=[1.1, 2.2, 3.3, 4.4, 5.5, 6.6, 7.7, 8.8, 9.9]\n",
    "import numpy as np\n",
    "np.set_printoptions(sign=' ') # to add space b4 the integer\n",
    "#arr1=list(map(float,input().split()))\n",
    "print(np.floor(arr1))\n",
    "print(np.ceil(arr1))\n",
    "print(np.rint(arr1))\n"
   ]
  },
  {
   "cell_type": "markdown",
   "metadata": {
    "ExecuteTime": {
     "end_time": "2021-10-23T02:30:56.768413Z",
     "start_time": "2021-10-23T02:30:56.736390Z"
    }
   },
   "source": [
    "# Q9 Sum and Proud\n",
    "The first line of input contains N*M space separated values of  and .The next N lines contains  M space separated integers.\n",
    "input:\n",
    "2 2<br>\n",
    "1 2<br>\n",
    "3 4"
   ]
  },
  {
   "cell_type": "code",
   "execution_count": 32,
   "metadata": {
    "ExecuteTime": {
     "end_time": "2021-10-23T02:57:00.873464Z",
     "start_time": "2021-10-23T02:56:51.734241Z"
    }
   },
   "outputs": [
    {
     "name": "stdout",
     "output_type": "stream",
     "text": [
      "2 2\n",
      "1 2\n",
      "3 4\n",
      "24\n"
     ]
    }
   ],
   "source": [
    "import numpy as np\n",
    "n,m=map(int,input().split(' '))\n",
    "arr1=np.array([input().strip().split(' ') for _ in range(n)],int)\n",
    "add1=np.sum(arr1,axis=0)\n",
    "print(np.prod(add1))"
   ]
  },
  {
   "cell_type": "markdown",
   "metadata": {},
   "source": [
    "# Q10 Min and Max\n",
    "You are given a 2-D array with dimensions n*m.Your task is to perform the min function over axis-1 and then find the max of that."
   ]
  },
  {
   "cell_type": "code",
   "execution_count": 33,
   "metadata": {
    "ExecuteTime": {
     "end_time": "2021-10-23T03:25:03.785041Z",
     "start_time": "2021-10-23T03:24:30.300058Z"
    }
   },
   "outputs": [
    {
     "name": "stdout",
     "output_type": "stream",
     "text": [
      "4 2\n",
      "2 3\n",
      "5 3\n",
      "7 2\n",
      "1 2\n",
      "3\n"
     ]
    }
   ],
   "source": [
    "import numpy as np\n",
    "n,m=map(int,input().split(' '))\n",
    "arr=np.array([input().split(' ') for _ in range(n)],int)\n",
    "print(np.max(np.min(arr,axis=1)))"
   ]
  },
  {
   "cell_type": "markdown",
   "metadata": {},
   "source": [
    "# Q11 Mean, Var and STD\n",
    "You are given a 2-D array of size n*m. Your task is to find:\n",
    "\n",
    "The mean along axis 0<br>\n",
    "The var along axis 1 <br>\n",
    "The std along axis None "
   ]
  },
  {
   "cell_type": "code",
   "execution_count": 34,
   "metadata": {
    "ExecuteTime": {
     "end_time": "2021-10-23T03:56:44.454524Z",
     "start_time": "2021-10-23T03:56:37.589509Z"
    }
   },
   "outputs": [
    {
     "name": "stdout",
     "output_type": "stream",
     "text": [
      "2 2\n",
      "1 2\n",
      "3 4\n",
      "[ 1.5  3.5]\n",
      "[ 1.  1.]\n",
      "1.11803398875\n"
     ]
    }
   ],
   "source": [
    "import numpy as np\n",
    "n,m=map(int,input().split(\" \"))\n",
    "arr=np.array([input().strip().split(' ') for _ in range(n)],int)\n",
    "print(np.mean(arr,axis=1))\n",
    "print(np.var(arr,axis=0))\n",
    "print(round(np.std(arr),11))"
   ]
  },
  {
   "cell_type": "markdown",
   "metadata": {},
   "source": [
    "# Q12 Dot and Cross\n",
    "You are given two arrays A and B. Both have dimensions of N*N.\n",
    "Your task is to compute their matrix product.\n"
   ]
  },
  {
   "cell_type": "code",
   "execution_count": 35,
   "metadata": {
    "ExecuteTime": {
     "end_time": "2021-10-23T04:59:42.652815Z",
     "start_time": "2021-10-23T04:59:11.340306Z"
    }
   },
   "outputs": [
    {
     "name": "stdout",
     "output_type": "stream",
     "text": [
      "2\n",
      "2 5\n",
      "3 4\n",
      "1 6\n",
      "2 7\n",
      "[[12 47]\n",
      " [11 46]]\n"
     ]
    }
   ],
   "source": [
    "n=int(input())\n",
    "arr1=np.array([input().strip().split(' ') for _ in range(n)],int)\n",
    "arr2=np.array([input().strip().split(' ') for _ in range(n)],int)\n",
    "print(np.dot(arr1,arr2))"
   ]
  },
  {
   "cell_type": "markdown",
   "metadata": {
    "ExecuteTime": {
     "end_time": "2021-10-23T05:00:50.659536Z",
     "start_time": "2021-10-23T05:00:50.644540Z"
    }
   },
   "source": [
    "# Q13 Inner and Outer\n",
    "You are given two arrays: A and B.\n",
    "Your task is to compute their inner and outer product."
   ]
  },
  {
   "cell_type": "code",
   "execution_count": 37,
   "metadata": {
    "ExecuteTime": {
     "end_time": "2021-10-23T05:21:57.382458Z",
     "start_time": "2021-10-23T05:21:48.731599Z"
    }
   },
   "outputs": [
    {
     "name": "stdout",
     "output_type": "stream",
     "text": [
      "0 1\n",
      "2 3\n",
      "3\n",
      "[[0 0]\n",
      " [2 3]]\n"
     ]
    }
   ],
   "source": [
    "import numpy as np\n",
    "arr1=np.array(input().strip().split(' '),int)\n",
    "arr2=np.array(input().strip().split(' '),int)\n",
    "print(np.inner(arr1,arr2))\n",
    "print(np.outer(arr1,arr2))"
   ]
  },
  {
   "cell_type": "markdown",
   "metadata": {},
   "source": [
    "# Q14 Polynomial\n",
    "You are given the coefficients of a polynomial P.\n",
    "Your task is to find the value of P at point x."
   ]
  },
  {
   "cell_type": "code",
   "execution_count": 1,
   "metadata": {
    "ExecuteTime": {
     "end_time": "2021-10-23T05:51:09.840446Z",
     "start_time": "2021-10-23T05:50:37.486007Z"
    }
   },
   "outputs": [
    {
     "name": "stdout",
     "output_type": "stream",
     "text": [
      "1.1 2 3\n",
      "0\n",
      "3.0\n"
     ]
    }
   ],
   "source": [
    "import numpy as np\n",
    "arr=np.array(input().strip().split(' '),float)\n",
    "n=int(input())\n",
    "print(np.polyval(arr,n))"
   ]
  },
  {
   "cell_type": "markdown",
   "metadata": {
    "ExecuteTime": {
     "end_time": "2021-10-23T06:06:38.393226Z",
     "start_time": "2021-10-23T06:06:38.388228Z"
    }
   },
   "source": [
    "# Q15 You are given a square matrix A with dimensions N*N. Your task is to find the determinant. Note: Round the answer to 2 places after the decimal."
   ]
  },
  {
   "cell_type": "code",
   "execution_count": 3,
   "metadata": {
    "ExecuteTime": {
     "end_time": "2021-10-23T06:07:17.005340Z",
     "start_time": "2021-10-23T06:06:48.928002Z"
    }
   },
   "outputs": [
    {
     "name": "stdout",
     "output_type": "stream",
     "text": [
      "2\n",
      "1.1 1.1\n",
      "1.1 1.1\n",
      "0.0\n"
     ]
    }
   ],
   "source": [
    "import numpy as np\n",
    "n=int(input())\n",
    "arr=np.array([input().strip().split(' ') for _ in range(n)],float)\n",
    "print(round(np.linalg.det(arr),2))\n",
    "\n"
   ]
  }
 ],
 "metadata": {
  "kernelspec": {
   "display_name": "Python 3",
   "language": "python",
   "name": "python3"
  },
  "language_info": {
   "codemirror_mode": {
    "name": "ipython",
    "version": 3
   },
   "file_extension": ".py",
   "mimetype": "text/x-python",
   "name": "python",
   "nbconvert_exporter": "python",
   "pygments_lexer": "ipython3",
   "version": "3.8.5"
  }
 },
 "nbformat": 4,
 "nbformat_minor": 4
}
